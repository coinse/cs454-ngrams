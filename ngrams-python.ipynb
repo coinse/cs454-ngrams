{
 "cells": [
  {
   "cell_type": "code",
   "execution_count": 1,
   "id": "0a9e91ca-e896-4e18-a7ec-37fe7442716c",
   "metadata": {},
   "outputs": [
    {
     "name": "stderr",
     "output_type": "stream",
     "text": [
      "[nltk_data] Downloading package punkt to /Users/ntrolls/nltk_data...\n",
      "[nltk_data]   Package punkt is already up-to-date!\n"
     ]
    },
    {
     "data": {
      "text/plain": [
       "True"
      ]
     },
     "execution_count": 1,
     "metadata": {},
     "output_type": "execute_result"
    }
   ],
   "source": [
    "import csv\n",
    "from nltk.util import pad_sequence\n",
    "from nltk.util import bigrams\n",
    "from nltk.util import ngrams\n",
    "from nltk.util import everygrams\n",
    "from nltk.lm.preprocessing import pad_both_ends\n",
    "from nltk.lm.preprocessing import flatten\n",
    "from nltk import word_tokenize\n",
    "\n",
    "import nltk\n",
    "nltk.download('punkt')\n"
   ]
  },
  {
   "cell_type": "code",
   "execution_count": 2,
   "id": "83024b1e-dd3d-4bd8-9176-3de6882daca9",
   "metadata": {},
   "outputs": [],
   "source": [
    "sentences = []\n",
    "with open(\"python-train_clean.tsv\") as tsv:\n",
    "    for line in csv.reader(tsv, dialect=\"excel-tab\"):\n",
    "    \tsentences.append(line[0])\n",
    "\n",
    "sent_tokenizer = lambda x: x.split(\" \")\n",
    "tokenized_text = [list(map(str.lower, word_tokenize(sent))) for sent in sentences]"
   ]
  },
  {
   "cell_type": "code",
   "execution_count": 3,
   "id": "4838c42e-543d-4f02-8d98-83b08cf03a7f",
   "metadata": {},
   "outputs": [],
   "source": [
    "from nltk.lm.preprocessing import padded_everygram_pipeline\n",
    "\n",
    "# we go for trigrams\n",
    "n=3\n",
    "train_data, padded_sents = padded_everygram_pipeline(n, tokenized_text)"
   ]
  },
  {
   "cell_type": "code",
   "execution_count": 5,
   "id": "13c9961b-98d8-471b-9ea7-4631521cb512",
   "metadata": {},
   "outputs": [
    {
     "name": "stdout",
     "output_type": "stream",
     "text": [
      "<Vocabulary with cutoff=1 unk_label='<UNK>' and 788587 items>\n"
     ]
    }
   ],
   "source": [
    "from nltk.lm import MLE\n",
    "import pickle\n",
    "import os\n",
    "\n",
    "if os.path.isfile(\"./mle_model.pkl\"):\n",
    "    model = pickle.load(open(\"mle_model.pkl\", \"rb\"))\n",
    "else:\n",
    "    model = MLE(n)\n",
    "    model.fit(train_data, padded_sents)\n",
    "    pickle.dump(model, open(\"mle_model.pkl\", \"wb\"))\n",
    "\n",
    "print(model.vocab)\n",
    "\n"
   ]
  },
  {
   "cell_type": "code",
   "execution_count": 6,
   "id": "621deae2-0b63-4f2c-b72d-d9a0bae9db4a",
   "metadata": {},
   "outputs": [
    {
     "data": {
      "text/plain": [
       "0.7185344507898835"
      ]
     },
     "execution_count": 6,
     "metadata": {},
     "output_type": "execute_result"
    }
   ],
   "source": [
    "model.score(\"in\", [\"for\", \"i\"])"
   ]
  },
  {
   "cell_type": "code",
   "execution_count": 7,
   "id": "b81c3f8e-8404-48a0-af43-afe81d9a6125",
   "metadata": {},
   "outputs": [
    {
     "data": {
      "text/plain": [
       "0.0"
      ]
     },
     "execution_count": 7,
     "metadata": {},
     "output_type": "execute_result"
    }
   ],
   "source": [
    "model.score(\":\", [\"for\", \"i\"])"
   ]
  },
  {
   "cell_type": "code",
   "execution_count": 8,
   "id": "5848f2ad-793e-485a-aad8-00a38bd96475",
   "metadata": {},
   "outputs": [
    {
     "data": {
      "text/plain": [
       "0.5731169871794872"
      ]
     },
     "execution_count": 8,
     "metadata": {},
     "output_type": "execute_result"
    }
   ],
   "source": [
    "model.score(\"range\", [\"i\", \"in\"])"
   ]
  },
  {
   "cell_type": "code",
   "execution_count": null,
   "id": "9ec50787-0b0e-46b9-b816-c10ec7ee24bb",
   "metadata": {},
   "outputs": [],
   "source": [
    "model.score(\"[\", [\"i\", \"in\"])"
   ]
  },
  {
   "cell_type": "code",
   "execution_count": null,
   "id": "33690e8d-9100-414e-ab1d-65b81adcd545",
   "metadata": {},
   "outputs": [],
   "source": [
    "model.score(\"list\", [\"i\", \"in\"])"
   ]
  },
  {
   "cell_type": "code",
   "execution_count": null,
   "id": "9119b9c2-e93a-4227-8e22-f509b1fe37a7",
   "metadata": {},
   "outputs": [],
   "source": []
  }
 ],
 "metadata": {
  "kernelspec": {
   "display_name": "Python 3 (ipykernel)",
   "language": "python",
   "name": "python3"
  },
  "language_info": {
   "codemirror_mode": {
    "name": "ipython",
    "version": 3
   },
   "file_extension": ".py",
   "mimetype": "text/x-python",
   "name": "python",
   "nbconvert_exporter": "python",
   "pygments_lexer": "ipython3",
   "version": "3.10.11"
  }
 },
 "nbformat": 4,
 "nbformat_minor": 5
}
